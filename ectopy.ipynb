{
 "cells": [
  {
   "cell_type": "markdown",
   "metadata": {},
   "source": [
    "# Ectopy: Ectopic expression analysis in Python"
   ]
  },
  {
   "cell_type": "markdown",
   "metadata": {},
   "source": [
    "The code below presents a typical pipeline of `ectopy` package to calculate activation frequencies of ectopically expressed genes and to find potential prognostic biomarkers."
   ]
  },
  {
   "cell_type": "markdown",
   "metadata": {},
   "source": [
    "## Import data"
   ]
  },
  {
   "cell_type": "code",
   "execution_count": 1,
   "metadata": {},
   "outputs": [],
   "source": [
    "import pandas as pd\n",
    "data_dir = 'data/'\n",
    "data = pd.read_csv(data_dir + 'data.csv', sep=';', index_col='id_sample')\n",
    "expgroup = pd.read_csv(data_dir + 'expgroup.csv', sep=';', index_col='id_sample')"
   ]
  },
  {
   "cell_type": "markdown",
   "metadata": {},
   "source": [
    "Display data."
   ]
  },
  {
   "cell_type": "code",
   "execution_count": 2,
   "metadata": {},
   "outputs": [
    {
     "name": "stdout",
     "output_type": "stream",
     "text": [
      "Data (1144, 3)\n"
     ]
    },
    {
     "data": {
      "text/html": [
       "<div>\n",
       "<style scoped>\n",
       "    .dataframe tbody tr th:only-of-type {\n",
       "        vertical-align: middle;\n",
       "    }\n",
       "\n",
       "    .dataframe tbody tr th {\n",
       "        vertical-align: top;\n",
       "    }\n",
       "\n",
       "    .dataframe thead th {\n",
       "        text-align: right;\n",
       "    }\n",
       "</style>\n",
       "<table border=\"1\" class=\"dataframe\">\n",
       "  <thead>\n",
       "    <tr style=\"text-align: right;\">\n",
       "      <th></th>\n",
       "      <th>DNMT3B</th>\n",
       "      <th>EXO1</th>\n",
       "      <th>MCM10</th>\n",
       "    </tr>\n",
       "    <tr>\n",
       "      <th>id_sample</th>\n",
       "      <th></th>\n",
       "      <th></th>\n",
       "      <th></th>\n",
       "    </tr>\n",
       "  </thead>\n",
       "  <tbody>\n",
       "    <tr>\n",
       "      <th>TCGA-3C-AAAU-01A</th>\n",
       "      <td>2.293107</td>\n",
       "      <td>1.851411</td>\n",
       "      <td>1.472214</td>\n",
       "    </tr>\n",
       "    <tr>\n",
       "      <th>TCGA-3C-AALI-01A</th>\n",
       "      <td>2.213523</td>\n",
       "      <td>2.893140</td>\n",
       "      <td>2.099413</td>\n",
       "    </tr>\n",
       "    <tr>\n",
       "      <th>TCGA-3C-AALJ-01A</th>\n",
       "      <td>3.160032</td>\n",
       "      <td>1.735396</td>\n",
       "      <td>1.655712</td>\n",
       "    </tr>\n",
       "  </tbody>\n",
       "</table>\n",
       "</div>"
      ],
      "text/plain": [
       "                    DNMT3B      EXO1     MCM10\n",
       "id_sample                                     \n",
       "TCGA-3C-AAAU-01A  2.293107  1.851411  1.472214\n",
       "TCGA-3C-AALI-01A  2.213523  2.893140  2.099413\n",
       "TCGA-3C-AALJ-01A  3.160032  1.735396  1.655712"
      ]
     },
     "execution_count": 2,
     "metadata": {},
     "output_type": "execute_result"
    }
   ],
   "source": [
    "print('Data', data.shape)\n",
    "data.head(3)"
   ]
  },
  {
   "cell_type": "markdown",
   "metadata": {},
   "source": [
    "Display a list of available genes."
   ]
  },
  {
   "cell_type": "code",
   "execution_count": 3,
   "metadata": {},
   "outputs": [
    {
     "name": "stdout",
     "output_type": "stream",
     "text": [
      "Available genes ['DNMT3B', 'EXO1', 'MCM10']\n"
     ]
    }
   ],
   "source": [
    "genes = list(data.columns)\n",
    "print('Available genes', genes)"
   ]
  },
  {
   "cell_type": "markdown",
   "metadata": {},
   "source": [
    "Display expgroup with tissue status (column `group`) and survival data (columns `time` and `event`)."
   ]
  },
  {
   "cell_type": "code",
   "execution_count": 4,
   "metadata": {},
   "outputs": [
    {
     "name": "stdout",
     "output_type": "stream",
     "text": [
      "Expgroup (1144, 3)\n"
     ]
    },
    {
     "data": {
      "text/html": [
       "<div>\n",
       "<style scoped>\n",
       "    .dataframe tbody tr th:only-of-type {\n",
       "        vertical-align: middle;\n",
       "    }\n",
       "\n",
       "    .dataframe tbody tr th {\n",
       "        vertical-align: top;\n",
       "    }\n",
       "\n",
       "    .dataframe thead th {\n",
       "        text-align: right;\n",
       "    }\n",
       "</style>\n",
       "<table border=\"1\" class=\"dataframe\">\n",
       "  <thead>\n",
       "    <tr style=\"text-align: right;\">\n",
       "      <th></th>\n",
       "      <th>group</th>\n",
       "      <th>time</th>\n",
       "      <th>event</th>\n",
       "    </tr>\n",
       "    <tr>\n",
       "      <th>id_sample</th>\n",
       "      <th></th>\n",
       "      <th></th>\n",
       "      <th></th>\n",
       "    </tr>\n",
       "  </thead>\n",
       "  <tbody>\n",
       "    <tr>\n",
       "      <th>TCGA-3C-AAAU-01A</th>\n",
       "      <td>tumoral</td>\n",
       "      <td>134.90</td>\n",
       "      <td>0.0</td>\n",
       "    </tr>\n",
       "    <tr>\n",
       "      <th>TCGA-3C-AALI-01A</th>\n",
       "      <td>tumoral</td>\n",
       "      <td>133.50</td>\n",
       "      <td>0.0</td>\n",
       "    </tr>\n",
       "    <tr>\n",
       "      <th>TCGA-3C-AALJ-01A</th>\n",
       "      <td>tumoral</td>\n",
       "      <td>49.13</td>\n",
       "      <td>0.0</td>\n",
       "    </tr>\n",
       "  </tbody>\n",
       "</table>\n",
       "</div>"
      ],
      "text/plain": [
       "                    group    time  event\n",
       "id_sample                               \n",
       "TCGA-3C-AAAU-01A  tumoral  134.90    0.0\n",
       "TCGA-3C-AALI-01A  tumoral  133.50    0.0\n",
       "TCGA-3C-AALJ-01A  tumoral   49.13    0.0"
      ]
     },
     "execution_count": 4,
     "metadata": {},
     "output_type": "execute_result"
    }
   ],
   "source": [
    "print('Expgroup', expgroup.shape)\n",
    "expgroup.head(3)"
   ]
  },
  {
   "cell_type": "markdown",
   "metadata": {},
   "source": [
    "## Create normal and tumoral datasets"
   ]
  },
  {
   "cell_type": "code",
   "execution_count": 5,
   "metadata": {},
   "outputs": [],
   "source": [
    "expgroup_normal = expgroup[expgroup['group']=='normal']\n",
    "expgroup_tumoral = expgroup[expgroup['group']=='tumoral']\n",
    "normal = data.loc[expgroup_normal.index, :]\n",
    "tumoral = data.loc[expgroup_tumoral.index, :]"
   ]
  },
  {
   "cell_type": "code",
   "execution_count": 6,
   "metadata": {},
   "outputs": [
    {
     "name": "stdout",
     "output_type": "stream",
     "text": [
      "Tumoral: data (1047, 3) expgroup (1047, 3)\n",
      "Normal: data (97, 3) expgroup (97, 3)\n"
     ]
    }
   ],
   "source": [
    "print('Tumoral:', 'data', tumoral.shape, 'expgroup', expgroup_tumoral.shape)\n",
    "print('Normal:', 'data', normal.shape, 'expgroup', expgroup_normal.shape)"
   ]
  },
  {
   "cell_type": "markdown",
   "metadata": {},
   "source": [
    "## Calculate m2sd threshold"
   ]
  },
  {
   "cell_type": "code",
   "execution_count": 7,
   "metadata": {},
   "outputs": [
    {
     "name": "stdout",
     "output_type": "stream",
     "text": [
      "Threshold m2sd\n",
      "DNMT3B    1.396983\n",
      "EXO1      1.089280\n",
      "MCM10     0.898020\n",
      "dtype: float64\n"
     ]
    }
   ],
   "source": [
    "from analysis import threshold\n",
    "m2sd_threshold = threshold.StdDecorator(threshold.MeanTreshold(normal), nb_std=2).calculate_threshold()\n",
    "print('Threshold m2sd')\n",
    "print(m2sd_threshold)"
   ]
  },
  {
   "cell_type": "markdown",
   "metadata": {},
   "source": [
    "## Calculate frequencies of expression above a threshold"
   ]
  },
  {
   "cell_type": "code",
   "execution_count": 8,
   "metadata": {},
   "outputs": [
    {
     "name": "stdout",
     "output_type": "stream",
     "text": [
      "Activation frequency obtained with m2sd threshold in percentage\n",
      "DNMT3B    45.367717\n",
      "EXO1      81.088825\n",
      "MCM10     73.925501\n",
      "dtype: float64\n"
     ]
    }
   ],
   "source": [
    "from analysis import expression_analysis\n",
    "frequency = expression_analysis.ExpressionFrequency().calculate_expression_frequency(tumoral, m2sd_threshold)\n",
    "print('Activation frequency obtained with m2sd threshold in percentage')\n",
    "print(frequency.head())"
   ]
  },
  {
   "cell_type": "code",
   "execution_count": 28,
   "metadata": {},
   "outputs": [
    {
     "data": {
      "text/plain": [
       "<AxesSubplot:>"
      ]
     },
     "execution_count": 28,
     "metadata": {},
     "output_type": "execute_result"
    },
    {
     "data": {
      "image/png": "[encoded data removed]",
      "text/plain": [
       "<Figure size 432x288 with 1 Axes>"
      ]
     },
     "metadata": {
      "needs_background": "light"
     },
     "output_type": "display_data"
    }
   ],
   "source": [
    "frequency.sort_values().plot.bar()"
   ]
  },
  {
   "cell_type": "markdown",
   "metadata": {},
   "source": [
    "## Plot Kaplan-Meier survival curve using a threshold"
   ]
  },
  {
   "cell_type": "code",
   "execution_count": 19,
   "metadata": {},
   "outputs": [],
   "source": [
    "from service import plot_service"
   ]
  },
  {
   "cell_type": "markdown",
   "metadata": {},
   "source": [
    "### m2sd threshold"
   ]
  },
  {
   "cell_type": "code",
   "execution_count": 30,
   "metadata": {},
   "outputs": [
    {
     "data": {
      "image/png": "[encoded data removed]",
      "text/plain": [
       "<Figure size 360x360 with 1 Axes>"
      ]
     },
     "metadata": {
      "needs_background": "light"
     },
     "output_type": "display_data"
    }
   ],
   "source": [
    "fig = plot_service.plot_individual_survival(tumoral, 'EXO1', m2sd_threshold, expgroup_tumoral, 'time', 'event', 120)"
   ]
  },
  {
   "cell_type": "markdown",
   "metadata": {},
   "source": [
    "### Median threshold in tumoral samples"
   ]
  },
  {
   "cell_type": "code",
   "execution_count": 22,
   "metadata": {},
   "outputs": [
    {
     "data": {
      "image/png": "[encoded data removed]",
      "text/plain": [
       "<Figure size 360x360 with 1 Axes>"
      ]
     },
     "metadata": {
      "needs_background": "light"
     },
     "output_type": "display_data"
    }
   ],
   "source": [
    "median_threshold = threshold.PercentileThreshold(tumoral, 50).calculate_threshold()\n",
    "fig = plot_service.plot_individual_survival(tumoral, 'EXO1', median_threshold, expgroup_tumoral, 'time', 'event', 120)"
   ]
  },
  {
   "cell_type": "markdown",
   "metadata": {},
   "source": [
    "## Calculate adaptive threshold"
   ]
  },
  {
   "cell_type": "code",
   "execution_count": 10,
   "metadata": {},
   "outputs": [],
   "source": [
    "from analysis import threshold"
   ]
  },
  {
   "cell_type": "code",
   "execution_count": 11,
   "metadata": {},
   "outputs": [],
   "source": [
    "max_normal = threshold.MaxTreshold(normal).calculate_threshold()"
   ]
  },
  {
   "cell_type": "code",
   "execution_count": 12,
   "metadata": {},
   "outputs": [],
   "source": [
    "options = {\n",
    "    'percentile': 15.0,\n",
    "    'step_percentile': 1.0,\n",
    "    'min_nb_samples': 20,\n",
    "    'noise_level': 0.3,\n",
    "    'min_reference_threshold': max_normal,\n",
    "    'nb_folds': 5,\n",
    "    'nb_cross_validations': 1\n",
    "    }\n"
   ]
  },
  {
   "cell_type": "code",
   "execution_count": 13,
   "metadata": {},
   "outputs": [
    {
     "name": "stdout",
     "output_type": "stream",
     "text": [
      "Processing feature DNMT3B\n",
      "Optimal threshold for DNMT3B\n",
      "     threshold  threshold_percentile   p_value  hazard_ratio  validated  \\\n",
      "T11   1.787853             72.464183  0.003263      1.557107       True   \n",
      "\n",
      "     cv_score  optimal  \n",
      "T11      20.0     True  \n",
      "Processing feature EXO1\n",
      "Optimal threshold for EXO1\n",
      "     threshold  threshold_percentile   p_value  hazard_ratio  validated  \\\n",
      "T13   2.126367             58.704871  0.003706      1.527854       True   \n",
      "\n",
      "     cv_score  optimal  \n",
      "T13      40.0     True  \n",
      "Processing feature MCM10\n",
      "Optimal threshold for MCM10\n",
      "    threshold  threshold_percentile   p_value  hazard_ratio  validated  \\\n",
      "T5   1.655761             57.486151  0.003297      1.537064       True   \n",
      "\n",
      "    cv_score  optimal  \n",
      "T5      20.0     True  \n"
     ]
    }
   ],
   "source": [
    "adaptive_threshold = threshold.AdaptiveThreshold(data=tumoral, survival_data=expgroup_tumoral, duration_col='time', event_col='event', **options)\n",
    "adaptive = adaptive_threshold.calculate_threshold()"
   ]
  },
  {
   "cell_type": "code",
   "execution_count": 14,
   "metadata": {},
   "outputs": [
    {
     "name": "stdout",
     "output_type": "stream",
     "text": [
      "Adaptive threshold\n"
     ]
    },
    {
     "data": {
      "text/plain": [
       "DNMT3B    1.787853\n",
       "EXO1      2.126367\n",
       "MCM10     1.655761\n",
       "dtype: float64"
      ]
     },
     "execution_count": 14,
     "metadata": {},
     "output_type": "execute_result"
    }
   ],
   "source": [
    "print('Adaptive threshold')\n",
    "adaptive.head()"
   ]
  },
  {
   "cell_type": "markdown",
   "metadata": {},
   "source": [
    "## Display details for tested thresholds"
   ]
  },
  {
   "cell_type": "code",
   "execution_count": 15,
   "metadata": {},
   "outputs": [
    {
     "data": {
      "text/html": [
       "<div>\n",
       "<style scoped>\n",
       "    .dataframe tbody tr th:only-of-type {\n",
       "        vertical-align: middle;\n",
       "    }\n",
       "\n",
       "    .dataframe tbody tr th {\n",
       "        vertical-align: top;\n",
       "    }\n",
       "\n",
       "    .dataframe thead th {\n",
       "        text-align: right;\n",
       "    }\n",
       "</style>\n",
       "<table border=\"1\" class=\"dataframe\">\n",
       "  <thead>\n",
       "    <tr style=\"text-align: right;\">\n",
       "      <th></th>\n",
       "      <th>threshold</th>\n",
       "      <th>threshold_percentile</th>\n",
       "      <th>p_value</th>\n",
       "      <th>hazard_ratio</th>\n",
       "      <th>validated</th>\n",
       "      <th>cv_score</th>\n",
       "      <th>optimal</th>\n",
       "    </tr>\n",
       "  </thead>\n",
       "  <tbody>\n",
       "    <tr>\n",
       "      <th>T1</th>\n",
       "      <td>1.813697</td>\n",
       "      <td>46.704871</td>\n",
       "      <td>0.025297</td>\n",
       "      <td>1.396049</td>\n",
       "      <td>True</td>\n",
       "      <td>0.0</td>\n",
       "      <td>False</td>\n",
       "    </tr>\n",
       "    <tr>\n",
       "      <th>T2</th>\n",
       "      <td>1.846114</td>\n",
       "      <td>47.704871</td>\n",
       "      <td>0.014063</td>\n",
       "      <td>1.442413</td>\n",
       "      <td>True</td>\n",
       "      <td>0.0</td>\n",
       "      <td>False</td>\n",
       "    </tr>\n",
       "    <tr>\n",
       "      <th>T3</th>\n",
       "      <td>1.860113</td>\n",
       "      <td>48.704871</td>\n",
       "      <td>0.006309</td>\n",
       "      <td>1.501328</td>\n",
       "      <td>True</td>\n",
       "      <td>20.0</td>\n",
       "      <td>False</td>\n",
       "    </tr>\n",
       "    <tr>\n",
       "      <th>T4</th>\n",
       "      <td>1.899769</td>\n",
       "      <td>49.704871</td>\n",
       "      <td>0.011484</td>\n",
       "      <td>1.452290</td>\n",
       "      <td>True</td>\n",
       "      <td>20.0</td>\n",
       "      <td>False</td>\n",
       "    </tr>\n",
       "    <tr>\n",
       "      <th>T5</th>\n",
       "      <td>1.921833</td>\n",
       "      <td>50.704871</td>\n",
       "      <td>0.008367</td>\n",
       "      <td>1.474996</td>\n",
       "      <td>True</td>\n",
       "      <td>0.0</td>\n",
       "      <td>False</td>\n",
       "    </tr>\n",
       "    <tr>\n",
       "      <th>T6</th>\n",
       "      <td>1.945113</td>\n",
       "      <td>51.704871</td>\n",
       "      <td>0.007588</td>\n",
       "      <td>1.481416</td>\n",
       "      <td>True</td>\n",
       "      <td>20.0</td>\n",
       "      <td>False</td>\n",
       "    </tr>\n",
       "    <tr>\n",
       "      <th>T7</th>\n",
       "      <td>1.964816</td>\n",
       "      <td>52.704871</td>\n",
       "      <td>0.002709</td>\n",
       "      <td>1.554961</td>\n",
       "      <td>True</td>\n",
       "      <td>40.0</td>\n",
       "      <td>False</td>\n",
       "    </tr>\n",
       "    <tr>\n",
       "      <th>T8</th>\n",
       "      <td>2.003815</td>\n",
       "      <td>53.704871</td>\n",
       "      <td>0.003130</td>\n",
       "      <td>1.542375</td>\n",
       "      <td>True</td>\n",
       "      <td>40.0</td>\n",
       "      <td>False</td>\n",
       "    </tr>\n",
       "    <tr>\n",
       "      <th>T9</th>\n",
       "      <td>2.024925</td>\n",
       "      <td>54.704871</td>\n",
       "      <td>0.003049</td>\n",
       "      <td>1.543227</td>\n",
       "      <td>True</td>\n",
       "      <td>40.0</td>\n",
       "      <td>False</td>\n",
       "    </tr>\n",
       "    <tr>\n",
       "      <th>T10</th>\n",
       "      <td>2.053258</td>\n",
       "      <td>55.704871</td>\n",
       "      <td>0.002321</td>\n",
       "      <td>1.561623</td>\n",
       "      <td>True</td>\n",
       "      <td>20.0</td>\n",
       "      <td>False</td>\n",
       "    </tr>\n",
       "    <tr>\n",
       "      <th>T11</th>\n",
       "      <td>2.075781</td>\n",
       "      <td>56.704871</td>\n",
       "      <td>0.001055</td>\n",
       "      <td>1.614978</td>\n",
       "      <td>True</td>\n",
       "      <td>40.0</td>\n",
       "      <td>False</td>\n",
       "    </tr>\n",
       "    <tr>\n",
       "      <th>T12</th>\n",
       "      <td>2.110568</td>\n",
       "      <td>57.704871</td>\n",
       "      <td>0.002459</td>\n",
       "      <td>1.556553</td>\n",
       "      <td>True</td>\n",
       "      <td>40.0</td>\n",
       "      <td>False</td>\n",
       "    </tr>\n",
       "    <tr>\n",
       "      <th>T13</th>\n",
       "      <td>2.126367</td>\n",
       "      <td>58.704871</td>\n",
       "      <td>0.003706</td>\n",
       "      <td>1.527854</td>\n",
       "      <td>True</td>\n",
       "      <td>40.0</td>\n",
       "      <td>True</td>\n",
       "    </tr>\n",
       "    <tr>\n",
       "      <th>T14</th>\n",
       "      <td>2.153757</td>\n",
       "      <td>59.704871</td>\n",
       "      <td>0.015316</td>\n",
       "      <td>1.425551</td>\n",
       "      <td>True</td>\n",
       "      <td>20.0</td>\n",
       "      <td>False</td>\n",
       "    </tr>\n",
       "    <tr>\n",
       "      <th>T15</th>\n",
       "      <td>2.188157</td>\n",
       "      <td>60.704871</td>\n",
       "      <td>0.009725</td>\n",
       "      <td>1.459836</td>\n",
       "      <td>True</td>\n",
       "      <td>0.0</td>\n",
       "      <td>False</td>\n",
       "    </tr>\n",
       "  </tbody>\n",
       "</table>\n",
       "</div>"
      ],
      "text/plain": [
       "     threshold  threshold_percentile   p_value  hazard_ratio  validated  \\\n",
       "T1    1.813697             46.704871  0.025297      1.396049       True   \n",
       "T2    1.846114             47.704871  0.014063      1.442413       True   \n",
       "T3    1.860113             48.704871  0.006309      1.501328       True   \n",
       "T4    1.899769             49.704871  0.011484      1.452290       True   \n",
       "T5    1.921833             50.704871  0.008367      1.474996       True   \n",
       "T6    1.945113             51.704871  0.007588      1.481416       True   \n",
       "T7    1.964816             52.704871  0.002709      1.554961       True   \n",
       "T8    2.003815             53.704871  0.003130      1.542375       True   \n",
       "T9    2.024925             54.704871  0.003049      1.543227       True   \n",
       "T10   2.053258             55.704871  0.002321      1.561623       True   \n",
       "T11   2.075781             56.704871  0.001055      1.614978       True   \n",
       "T12   2.110568             57.704871  0.002459      1.556553       True   \n",
       "T13   2.126367             58.704871  0.003706      1.527854       True   \n",
       "T14   2.153757             59.704871  0.015316      1.425551       True   \n",
       "T15   2.188157             60.704871  0.009725      1.459836       True   \n",
       "\n",
       "     cv_score  optimal  \n",
       "T1        0.0    False  \n",
       "T2        0.0    False  \n",
       "T3       20.0    False  \n",
       "T4       20.0    False  \n",
       "T5        0.0    False  \n",
       "T6       20.0    False  \n",
       "T7       40.0    False  \n",
       "T8       40.0    False  \n",
       "T9       40.0    False  \n",
       "T10      20.0    False  \n",
       "T11      40.0    False  \n",
       "T12      40.0    False  \n",
       "T13      40.0     True  \n",
       "T14      20.0    False  \n",
       "T15       0.0    False  "
      ]
     },
     "execution_count": 15,
     "metadata": {},
     "output_type": "execute_result"
    }
   ],
   "source": [
    "adaptive_threshold.get_details('EXO1').head(15)"
   ]
  },
  {
   "cell_type": "markdown",
   "metadata": {},
   "source": [
    "## Plot Kaplan-Meier individual survival curve for a gene using the adaptive threshold"
   ]
  },
  {
   "cell_type": "code",
   "execution_count": 16,
   "metadata": {},
   "outputs": [
    {
     "data": {
      "image/png": "[encoded data removed]",
      "text/plain": [
       "<Figure size 360x360 with 1 Axes>"
      ]
     },
     "metadata": {
      "needs_background": "light"
     },
     "output_type": "display_data"
    }
   ],
   "source": [
    "fig = plot_service.plot_individual_survival(tumoral, 'EXO1', adaptive, expgroup_tumoral, 'time', 'event', 120)"
   ]
  },
  {
   "cell_type": "markdown",
   "metadata": {},
   "source": [
    "## Plot Kaplan-Meier combined survival curve for a panel of genes using the adaptive threshold"
   ]
  },
  {
   "cell_type": "code",
   "execution_count": 25,
   "metadata": {},
   "outputs": [
    {
     "name": "stdout",
     "output_type": "stream",
     "text": [
      "Prognosis groups {'P1': [0, 0], 'P2': [1, 2], 'P3': [3, 3]}\n"
     ]
    }
   ],
   "source": [
    "panel = ['DNMT3B', 'EXO1', 'MCM10']\n",
    "prognosis_groups = {'P1': [0, 0], 'P2': [1, 2], 'P3': [3, len(panel)]} \n",
    "print('Prognosis groups', prognosis_groups)"
   ]
  },
  {
   "cell_type": "code",
   "execution_count": 26,
   "metadata": {},
   "outputs": [
    {
     "data": {
      "image/png": "[encoded data removed]",
      "text/plain": [
       "<Figure size 360x360 with 1 Axes>"
      ]
     },
     "metadata": {
      "needs_background": "light"
     },
     "output_type": "display_data"
    }
   ],
   "source": [
    "fig = plot_service.plot_combined_survival(tumoral, panel, prognosis_groups, adaptive, expgroup_tumoral, 'time', 'event', 120)"
   ]
  },
  {
   "cell_type": "code",
   "execution_count": null,
   "metadata": {},
   "outputs": [],
   "source": []
  }
 ],
 "metadata": {
  "kernelspec": {
   "display_name": "Python 3",
   "language": "python",
   "name": "python3"
  },
  "language_info": {
   "codemirror_mode": {
    "name": "ipython",
    "version": 3
   },
   "file_extension": ".py",
   "mimetype": "text/x-python",
   "name": "python",
   "nbconvert_exporter": "python",
   "pygments_lexer": "ipython3",
   "version": "3.8.7"
  }
 },
 "nbformat": 4,
 "nbformat_minor": 4
}
